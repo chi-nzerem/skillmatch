{
 "cells": [
  {
   "cell_type": "code",
   "execution_count": null,
   "id": "167e5064-a90f-4f66-a41f-e8c132a1ecd5",
   "metadata": {},
   "outputs": [],
   "source": [
    "import pandas as pd\n",
    "import random"
   ]
  },
  {
   "cell_type": "code",
   "execution_count": null,
   "id": "0d9babe7-94f0-4e22-97f9-b2f2aa36f4a2",
   "metadata": {},
   "outputs": [],
   "source": [
    "# Defining sample data for generating the dataset\n",
    "first_names = ['Alice', 'Bob', 'Charlie', 'David', 'Eva', 'Frank', 'Grace', 'Hannah', 'Ian', 'Julia', 'Kyle', 'Liam', 'Mia', 'Nina', 'Oliver', 'Paul', 'Quincy', 'Rachel', 'Sophie', 'Tom', 'Uma', 'Vera', 'Will', 'Xander', 'Yara', 'Zoe']\n",
    "last_names = ['Smith', 'Johnson', 'Brown', 'Taylor', 'Miller', 'Davis', 'Garcia', 'Martinez', 'Anderson', 'Wilson', 'Moore', 'Jackson', 'Martin', 'Lee', 'Perez', 'Thompson', 'White', 'Harris', 'Sanchez', 'Clark', 'Ramirez', 'Lewis', 'Robinson', 'Walker', 'Young', 'King']\n",
    "cities = ['New York', 'Los Angeles', 'Chicago', 'Houston', 'Phoenix', 'Philadelphia', 'San Antonio', 'San Diego', 'Dallas', 'San Jose', 'Austin', 'Jacksonville', 'Fort Worth', 'Columbus', 'Charlotte', 'Indianapolis', 'Seattle', 'Denver', 'Washington', 'Boston']\n",
    "\n",
    "projects = ['Assemble a band', 'Build a robot', 'Organize a fundraiser', 'Create a clean energy startup', 'Develop a mobile app', \n",
    "            'Start a community garden', 'Film a short movie', 'Design a video game', 'Launch a food truck', 'Publish a digital magazine']\n",
    "\n",
    "roles = {\n",
    "    'Assemble a band': ['Guitarist', 'Drummer', 'Vocalist', 'Bassist', 'Keyboardist', 'Sound Engineer'],\n",
    "    'Build a robot': ['Mechanical Engineer', 'Electrical Engineer', 'Programmer', 'CAD Designer', 'Robotics Technician'],\n",
    "    'Organize a fundraiser': ['Event Planner', 'Marketing Specialist', 'Graphic Designer', 'Public Relations', 'Volunteer Coordinator'],\n",
    "    'Create a clean energy startup': ['Business Strategist', 'Solar Engineer', 'Wind Power Expert', 'Financial Analyst', 'Marketing Expert'],\n",
    "    'Develop a mobile app': ['App Developer', 'UI/UX Designer', 'Backend Developer', 'QA Tester', 'Product Manager'],\n",
    "    'Start a community garden': ['Horticulturist', 'Garden Planner', 'Volunteer Coordinator', 'Event Coordinator', 'Fundraiser'],\n",
    "    'Film a short movie': ['Director', 'Cinematographer', 'Scriptwriter', 'Editor', 'Actor', 'Sound Technician'],\n",
    "    'Design a video game': ['Game Developer', 'Animator', 'Game Designer', '3D Modeler', 'Sound Designer'],\n",
    "    'Launch a food truck': ['Chef', 'Menu Planner', 'Marketing Expert', 'Logistics Manager', 'Cashier'],\n",
    "    'Publish a digital magazine': ['Editor', 'Writer', 'Graphic Designer', 'Photographer', 'Social Media Manager']\n",
    "}"
   ]
  },
  {
   "cell_type": "code",
   "execution_count": null,
   "id": "445d87d1-5328-49d9-9bc6-62ec1c54f762",
   "metadata": {},
   "outputs": [],
   "source": [
    "# Generating random data\n",
    "def generate_user_data():\n",
    "    first_name = random.choice(first_names)\n",
    "    last_name = random.choice(last_names)\n",
    "    age = random.randint(18, 60)\n",
    "    project = random.choice(list(projects))\n",
    "    personal_skill = random.choice(roles[project])\n",
    "    \n",
    "    # Exclude personal skill from the desired skills\n",
    "    available_skills = [skill for skill in roles[project] if skill != personal_skill]\n",
    "    desired_skills = random.sample(available_skills, 3)  # Randomly select 3 desired roles excluding the personal skill\n",
    "    \n",
    "    location = random.choice(cities)\n",
    "    \n",
    "    return [first_name, last_name, age, project, personal_skill, desired_skills[0], desired_skills[1], desired_skills[2], location]"
   ]
  },
  {
   "cell_type": "code",
   "execution_count": null,
   "id": "5168be2c-4d67-499c-89b5-1d3b3d56e10e",
   "metadata": {},
   "outputs": [],
   "source": [
    "# Create dataset\n",
    "data = [generate_user_data() for _ in range(150)]\n",
    "columns = ['first_name', 'last_name', 'age', 'project', 'personal_skill', 'desired_skill_1', 'desired_skill_2', 'desired_skill_3', 'location']"
   ]
  },
  {
   "cell_type": "code",
   "execution_count": null,
   "id": "07a005c0-5f82-48d6-98b2-695c13b6574e",
   "metadata": {},
   "outputs": [],
   "source": [
    "# Create DataFrame\n",
    "df = pd.DataFrame(data, columns=columns)"
   ]
  },
  {
   "cell_type": "code",
   "execution_count": null,
   "id": "a5006580-e207-4850-8b33-2bfd5ae9d3eb",
   "metadata": {},
   "outputs": [],
   "source": [
    "# Drop any rows with identical users (name, age, locatino)\n",
    "df = df.loc[~df.duplicated(subset=['first_name', 'last_name', 'age', 'location'], keep='first')]\n",
    "df = df.reset_index(drop=True)"
   ]
  },
  {
   "cell_type": "code",
   "execution_count": null,
   "id": "2e0cc648-c88b-4e44-b35c-d2d575bb67b9",
   "metadata": {},
   "outputs": [],
   "source": [
    "# Check dimensions\n",
    "df.shape"
   ]
  },
  {
   "cell_type": "code",
   "execution_count": null,
   "id": "2b9a9ac4-4a60-4cf1-839b-e996fab7167a",
   "metadata": {},
   "outputs": [],
   "source": [
    "# Preview data\n",
    "df.head(10)"
   ]
  },
  {
   "cell_type": "code",
   "execution_count": null,
   "id": "bc01c823-84c3-46dc-a4d5-f4108c8407d3",
   "metadata": {},
   "outputs": [],
   "source": [
    "# Save the dataset as TSV\n",
    "file_path = 'skill_share_users_dataset.tsv'\n",
    "df.to_csv(file_path, sep='\\t', index=False)"
   ]
  },
  {
   "cell_type": "code",
   "execution_count": null,
   "id": "bf1c4094-3baa-460a-89a1-096468c6a524",
   "metadata": {},
   "outputs": [],
   "source": []
  }
 ],
 "metadata": {
  "kernelspec": {
   "display_name": "Python 3 (ipykernel)",
   "language": "python",
   "name": "python3"
  },
  "language_info": {
   "codemirror_mode": {
    "name": "ipython",
    "version": 3
   },
   "file_extension": ".py",
   "mimetype": "text/x-python",
   "name": "python",
   "nbconvert_exporter": "python",
   "pygments_lexer": "ipython3",
   "version": "3.10.1"
  }
 },
 "nbformat": 4,
 "nbformat_minor": 5
}
